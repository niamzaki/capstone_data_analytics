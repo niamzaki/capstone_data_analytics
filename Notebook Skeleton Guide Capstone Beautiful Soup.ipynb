{
 "cells": [
  {
   "cell_type": "markdown",
   "metadata": {},
   "source": [
    "# Capstone Webscrapping using BeautifulSoup\n",
    "\n",
    "This notebook contains guidances & tasks on the data processing for the application\n",
    "\n",
    "So, this is report capstone webscrapping using beautifulsoup.\n",
    "this scrapping scrapped imdb website, to get data about film, like title, rating, voting and metascore.\n",
    "data that i got can be used for analysing film\n",
    "\n",
    "## Requesting the Data and Creating a BeautifulSoup\n",
    "\n",
    "Let's begin with requesting the web from the site with `get` method."
   ]
  },
  {
   "cell_type": "code",
   "execution_count": 22,
   "metadata": {
    "ExecuteTime": {
     "end_time": "2020-11-27T19:59:40.999661Z",
     "start_time": "2020-11-27T19:59:39.398637Z"
    }
   },
   "outputs": [],
   "source": [
    "import requests\n",
    "\n",
    "url_get = requests.get('https://www.imdb.com/search/title/?release_date=2019-01-01,2019-12-31')"
   ]
  },
  {
   "cell_type": "code",
   "execution_count": 23,
   "metadata": {
    "ExecuteTime": {
     "end_time": "2020-11-27T19:59:41.014628Z",
     "start_time": "2020-11-27T19:59:41.001660Z"
    }
   },
   "outputs": [],
   "source": [
    "import pandas as pd\n",
    "import numpy as np\n",
    "import matplotlib.pyplot as plt"
   ]
  },
  {
   "cell_type": "markdown",
   "metadata": {},
   "source": [
    "To visualize what exactly you get from the `request.get`, we can use .content so ee what we exactly get, in here i slice it so it won't make our screen full of the html we get from the page. You can delete the slicing if you want to see what we fully get."
   ]
  },
  {
   "cell_type": "code",
   "execution_count": 24,
   "metadata": {
    "ExecuteTime": {
     "end_time": "2020-11-27T19:59:41.030262Z",
     "start_time": "2020-11-27T19:59:41.016620Z"
    }
   },
   "outputs": [
    {
     "data": {
      "text/plain": [
       "b'\\n<'"
      ]
     },
     "execution_count": 24,
     "metadata": {},
     "output_type": "execute_result"
    }
   ],
   "source": [
    "url_get.content[1:3]"
   ]
  },
  {
   "cell_type": "markdown",
   "metadata": {},
   "source": [
    "As we can see we get a very unstructured and complex html, which actually contains the codes needed to show the webpages on your web browser. But we as human still confused what and where we can use that piece of code, so here where we use the beautifulsoup. Beautiful soup class will result a beautifulsoup object. Beautiful Soup transforms a complex HTML document into a complex tree of Python objects. \n",
    "\n",
    "Let's make Beautiful soup object and feel free to explore the object here."
   ]
  },
  {
   "cell_type": "code",
   "execution_count": 25,
   "metadata": {
    "ExecuteTime": {
     "end_time": "2020-11-27T19:59:41.253715Z",
     "start_time": "2020-11-27T19:59:41.033263Z"
    }
   },
   "outputs": [
    {
     "name": "stdout",
     "output_type": "stream",
     "text": [
      "<class 'bs4.BeautifulSoup'>\n"
     ]
    }
   ],
   "source": [
    "from bs4 import BeautifulSoup \n",
    "\n",
    "soup = BeautifulSoup(url_get.content,\"html.parser\")\n",
    "print(type(soup))"
   ]
  },
  {
   "cell_type": "markdown",
   "metadata": {},
   "source": [
    "## Finding the right key to scrap the data & Extracting the right information"
   ]
  },
  {
   "cell_type": "markdown",
   "metadata": {},
   "source": [
    "Find the key and put the key into the `.find()` Put all the exploring the right key at this cell. (please change this markdown with your explanation)"
   ]
  },
  {
   "cell_type": "markdown",
   "metadata": {},
   "source": [
    "Because the parameters that we wanna get are located in different location, so we can get each parameter by creating variabel for each parameter"
   ]
  },
  {
   "cell_type": "code",
   "execution_count": 26,
   "metadata": {
    "ExecuteTime": {
     "end_time": "2020-11-27T19:59:41.330285Z",
     "start_time": "2020-11-27T19:59:41.255660Z"
    },
    "hide_input": false,
    "scrolled": false
   },
   "outputs": [],
   "source": [
    "table = soup.find('div',attrs={'class':'lister-list'})\n",
    "total_film=table.find_all('div',attrs={'class':\"lister-item mode-advanced\"})\n",
    "judul=table.find_all('h3',attrs={'class':\"lister-item-header\"})\n",
    "voting=table.find_all('p',attrs={'class':\"sort-num_votes-visible\"})\n",
    "imdb=table.find_all('div',attrs={'class':\"inline-block ratings-imdb-rating\"})\n",
    "metascore=table.find_all('div',attrs={'class':\"inline-block ratings-metascore\"})"
   ]
  },
  {
   "cell_type": "markdown",
   "metadata": {},
   "source": [
    "But, parameter/variable \"metascore\" has special condition, beacause not every film has this parameter, so, we di a special thing too"
   ]
  },
  {
   "cell_type": "code",
   "execution_count": 27,
   "metadata": {
    "ExecuteTime": {
     "end_time": "2020-11-27T19:59:41.676250Z",
     "start_time": "2020-11-27T19:59:41.332028Z"
    },
    "scrolled": true
   },
   "outputs": [],
   "source": [
    "storage_metascore=[]\n",
    "for i in range(0,len(metascore)):\n",
    "    metascore=table.find_all('div',attrs={'class':\"inline-block ratings-metascore\"})\n",
    "    metascore=metascore[i].text.split('\\n')[1].strip()\n",
    "    storage_metascore.append(metascore)"
   ]
  },
  {
   "cell_type": "markdown",
   "metadata": {},
   "source": [
    "first, we create list that contains as many none numbers as length of rows "
   ]
  },
  {
   "cell_type": "markdown",
   "metadata": {},
   "source": [
    "Then, we got film index by using for loops and if else condition"
   ]
  },
  {
   "cell_type": "markdown",
   "metadata": {},
   "source": [
    "After got list that contains 'none' items and index of metascore, we can subset to get list that \n",
    "in accordance with real condition in website"
   ]
  },
  {
   "cell_type": "code",
   "execution_count": 28,
   "metadata": {
    "ExecuteTime": {
     "end_time": "2020-11-27T19:59:41.753150Z",
     "start_time": "2020-11-27T19:59:41.677253Z"
    }
   },
   "outputs": [],
   "source": [
    "storage=[]\n",
    "for i in range(0, len(total_film)):\n",
    "    if \"inline-block ratings-metascore\" in str(total_film[i]):\n",
    "        storage.append(i)\n",
    "    else:\n",
    "        pass\n",
    "    \n",
    "list_besar=[None]*len(total_film)"
   ]
  },
  {
   "cell_type": "code",
   "execution_count": 29,
   "metadata": {
    "ExecuteTime": {
     "end_time": "2020-11-27T19:59:41.769098Z",
     "start_time": "2020-11-27T19:59:41.762121Z"
    }
   },
   "outputs": [],
   "source": [
    "for c in range(0,len(storage_metascore)):\n",
    "    list_besar[storage[c]]=storage_metascore[c]"
   ]
  },
  {
   "cell_type": "code",
   "execution_count": 30,
   "metadata": {
    "ExecuteTime": {
     "end_time": "2020-11-27T19:59:43.485534Z",
     "start_time": "2020-11-27T19:59:41.773087Z"
    }
   },
   "outputs": [],
   "source": [
    "judul_film=[]\n",
    "jumlah_voting=[]\n",
    "rating_imdb=[]\n",
    "for i in range(0, len(total_film)):\n",
    "    judul=table.find_all('h3',attrs={'class':\"lister-item-header\"})\n",
    "    judul=judul[i].text.split('\\n')[2]\n",
    "    judul_film.append(judul)\n",
    "    \n",
    "    voting=table.find_all('p',attrs={'class':\"sort-num_votes-visible\"})\n",
    "    voting=voting[i].text.split('\\n')[2]\n",
    "    jumlah_voting.append(voting)\n",
    "    \n",
    "    imdb=table.find_all('div',attrs={'class':\"inline-block ratings-imdb-rating\"})\n",
    "    imdb=imdb[i].text.split('\\n')[2]\n",
    "    rating_imdb.append(imdb)"
   ]
  },
  {
   "cell_type": "markdown",
   "metadata": {},
   "source": [
    "after we got all lists, the we create dataframe by using zip() to merge/concate list"
   ]
  },
  {
   "cell_type": "markdown",
   "metadata": {},
   "source": [
    "## Creating data frame & Data wrangling"
   ]
  },
  {
   "cell_type": "code",
   "execution_count": 31,
   "metadata": {
    "ExecuteTime": {
     "end_time": "2020-11-27T19:59:43.501531Z",
     "start_time": "2020-11-27T19:59:43.487301Z"
    }
   },
   "outputs": [
    {
     "data": {
      "text/html": [
       "<div>\n",
       "<style scoped>\n",
       "    .dataframe tbody tr th:only-of-type {\n",
       "        vertical-align: middle;\n",
       "    }\n",
       "\n",
       "    .dataframe tbody tr th {\n",
       "        vertical-align: top;\n",
       "    }\n",
       "\n",
       "    .dataframe thead th {\n",
       "        text-align: right;\n",
       "    }\n",
       "</style>\n",
       "<table border=\"1\" class=\"dataframe\">\n",
       "  <thead>\n",
       "    <tr style=\"text-align: right;\">\n",
       "      <th></th>\n",
       "    </tr>\n",
       "  </thead>\n",
       "  <tbody>\n",
       "  </tbody>\n",
       "</table>\n",
       "</div>"
      ],
      "text/plain": [
       "Empty DataFrame\n",
       "Columns: []\n",
       "Index: []"
      ]
     },
     "execution_count": 31,
     "metadata": {},
     "output_type": "execute_result"
    }
   ],
   "source": [
    "pd.DataFrame()"
   ]
  },
  {
   "cell_type": "code",
   "execution_count": 32,
   "metadata": {
    "ExecuteTime": {
     "end_time": "2020-11-27T19:59:43.532210Z",
     "start_time": "2020-11-27T19:59:43.504256Z"
    },
    "scrolled": true
   },
   "outputs": [
    {
     "data": {
      "text/html": [
       "<div>\n",
       "<style scoped>\n",
       "    .dataframe tbody tr th:only-of-type {\n",
       "        vertical-align: middle;\n",
       "    }\n",
       "\n",
       "    .dataframe tbody tr th {\n",
       "        vertical-align: top;\n",
       "    }\n",
       "\n",
       "    .dataframe thead th {\n",
       "        text-align: right;\n",
       "    }\n",
       "</style>\n",
       "<table border=\"1\" class=\"dataframe\">\n",
       "  <thead>\n",
       "    <tr style=\"text-align: right;\">\n",
       "      <th></th>\n",
       "      <th>jumlah_voting</th>\n",
       "      <th>rating_imdb</th>\n",
       "      <th>metascore</th>\n",
       "    </tr>\n",
       "  </thead>\n",
       "  <tbody>\n",
       "    <tr>\n",
       "      <th>The Mandalorian</th>\n",
       "      <td>218,408</td>\n",
       "      <td>8.7</td>\n",
       "      <td>None</td>\n",
       "    </tr>\n",
       "    <tr>\n",
       "      <th>His Dark Materials</th>\n",
       "      <td>42,067</td>\n",
       "      <td>7.9</td>\n",
       "      <td>None</td>\n",
       "    </tr>\n",
       "    <tr>\n",
       "      <th>The Boys</th>\n",
       "      <td>217,545</td>\n",
       "      <td>8.7</td>\n",
       "      <td>None</td>\n",
       "    </tr>\n",
       "    <tr>\n",
       "      <th>Dreamland</th>\n",
       "      <td>1,162</td>\n",
       "      <td>5.7</td>\n",
       "      <td>57</td>\n",
       "    </tr>\n",
       "    <tr>\n",
       "      <th>Jojo Rabbit</th>\n",
       "      <td>277,631</td>\n",
       "      <td>7.9</td>\n",
       "      <td>58</td>\n",
       "    </tr>\n",
       "    <tr>\n",
       "      <th>Servant</th>\n",
       "      <td>15,853</td>\n",
       "      <td>7.6</td>\n",
       "      <td>None</td>\n",
       "    </tr>\n",
       "    <tr>\n",
       "      <th>Wayne</th>\n",
       "      <td>8,496</td>\n",
       "      <td>8.4</td>\n",
       "      <td>None</td>\n",
       "    </tr>\n",
       "    <tr>\n",
       "      <th>The Gentlemen</th>\n",
       "      <td>207,408</td>\n",
       "      <td>7.8</td>\n",
       "      <td>51</td>\n",
       "    </tr>\n",
       "    <tr>\n",
       "      <th>Undercover</th>\n",
       "      <td>9,405</td>\n",
       "      <td>7.9</td>\n",
       "      <td>None</td>\n",
       "    </tr>\n",
       "    <tr>\n",
       "      <th>The Witcher</th>\n",
       "      <td>282,584</td>\n",
       "      <td>8.2</td>\n",
       "      <td>None</td>\n",
       "    </tr>\n",
       "    <tr>\n",
       "      <th>Knives Out</th>\n",
       "      <td>419,163</td>\n",
       "      <td>7.9</td>\n",
       "      <td>82</td>\n",
       "    </tr>\n",
       "    <tr>\n",
       "      <th>Gisaengchung</th>\n",
       "      <td>512,037</td>\n",
       "      <td>8.6</td>\n",
       "      <td>96</td>\n",
       "    </tr>\n",
       "    <tr>\n",
       "      <th>Once Upon a Time... in Hollywood</th>\n",
       "      <td>530,749</td>\n",
       "      <td>7.6</td>\n",
       "      <td>83</td>\n",
       "    </tr>\n",
       "    <tr>\n",
       "      <th>Joker</th>\n",
       "      <td>900,149</td>\n",
       "      <td>8.5</td>\n",
       "      <td>59</td>\n",
       "    </tr>\n",
       "    <tr>\n",
       "      <th>Avengers: Endgame</th>\n",
       "      <td>782,437</td>\n",
       "      <td>8.4</td>\n",
       "      <td>78</td>\n",
       "    </tr>\n",
       "    <tr>\n",
       "      <th>Sex Education</th>\n",
       "      <td>149,004</td>\n",
       "      <td>8.3</td>\n",
       "      <td>None</td>\n",
       "    </tr>\n",
       "    <tr>\n",
       "      <th>Euphoria</th>\n",
       "      <td>53,591</td>\n",
       "      <td>8.4</td>\n",
       "      <td>None</td>\n",
       "    </tr>\n",
       "    <tr>\n",
       "      <th>Warrior</th>\n",
       "      <td>13,073</td>\n",
       "      <td>8.2</td>\n",
       "      <td>None</td>\n",
       "    </tr>\n",
       "    <tr>\n",
       "      <th>1917</th>\n",
       "      <td>393,012</td>\n",
       "      <td>8.3</td>\n",
       "      <td>78</td>\n",
       "    </tr>\n",
       "    <tr>\n",
       "      <th>Midsommar</th>\n",
       "      <td>190,840</td>\n",
       "      <td>7.1</td>\n",
       "      <td>72</td>\n",
       "    </tr>\n",
       "    <tr>\n",
       "      <th>Chernobyl</th>\n",
       "      <td>513,461</td>\n",
       "      <td>9.4</td>\n",
       "      <td>None</td>\n",
       "    </tr>\n",
       "    <tr>\n",
       "      <th>Doctor Sleep</th>\n",
       "      <td>135,787</td>\n",
       "      <td>7.3</td>\n",
       "      <td>59</td>\n",
       "    </tr>\n",
       "    <tr>\n",
       "      <th>Star Wars: Episode IX - The Rise of Skywalker</th>\n",
       "      <td>359,108</td>\n",
       "      <td>6.6</td>\n",
       "      <td>53</td>\n",
       "    </tr>\n",
       "    <tr>\n",
       "      <th>The Unicorn</th>\n",
       "      <td>2,659</td>\n",
       "      <td>7.2</td>\n",
       "      <td>None</td>\n",
       "    </tr>\n",
       "    <tr>\n",
       "      <th>The Dead Don't Die</th>\n",
       "      <td>50,391</td>\n",
       "      <td>5.5</td>\n",
       "      <td>53</td>\n",
       "    </tr>\n",
       "    <tr>\n",
       "      <th>The Spanish Princess</th>\n",
       "      <td>4,257</td>\n",
       "      <td>6.8</td>\n",
       "      <td>None</td>\n",
       "    </tr>\n",
       "    <tr>\n",
       "      <th>The Morning Show</th>\n",
       "      <td>45,784</td>\n",
       "      <td>8.4</td>\n",
       "      <td>None</td>\n",
       "    </tr>\n",
       "    <tr>\n",
       "      <th>Virgin River</th>\n",
       "      <td>11,861</td>\n",
       "      <td>7.5</td>\n",
       "      <td>None</td>\n",
       "    </tr>\n",
       "    <tr>\n",
       "      <th>The Irishman</th>\n",
       "      <td>314,372</td>\n",
       "      <td>7.9</td>\n",
       "      <td>94</td>\n",
       "    </tr>\n",
       "    <tr>\n",
       "      <th>After</th>\n",
       "      <td>35,090</td>\n",
       "      <td>5.3</td>\n",
       "      <td>30</td>\n",
       "    </tr>\n",
       "    <tr>\n",
       "      <th>Cats</th>\n",
       "      <td>39,265</td>\n",
       "      <td>2.8</td>\n",
       "      <td>32</td>\n",
       "    </tr>\n",
       "    <tr>\n",
       "      <th>Little Women</th>\n",
       "      <td>132,537</td>\n",
       "      <td>7.8</td>\n",
       "      <td>91</td>\n",
       "    </tr>\n",
       "    <tr>\n",
       "      <th>Jungleland</th>\n",
       "      <td>1,253</td>\n",
       "      <td>6.2</td>\n",
       "      <td>53</td>\n",
       "    </tr>\n",
       "    <tr>\n",
       "      <th>Uncut Gems</th>\n",
       "      <td>210,124</td>\n",
       "      <td>7.4</td>\n",
       "      <td>91</td>\n",
       "    </tr>\n",
       "    <tr>\n",
       "      <th>Bombshell</th>\n",
       "      <td>79,532</td>\n",
       "      <td>6.8</td>\n",
       "      <td>64</td>\n",
       "    </tr>\n",
       "    <tr>\n",
       "      <th>Evil</th>\n",
       "      <td>10,790</td>\n",
       "      <td>7.6</td>\n",
       "      <td>None</td>\n",
       "    </tr>\n",
       "    <tr>\n",
       "      <th>The Lighthouse</th>\n",
       "      <td>133,166</td>\n",
       "      <td>7.5</td>\n",
       "      <td>83</td>\n",
       "    </tr>\n",
       "    <tr>\n",
       "      <th>Buddy Games</th>\n",
       "      <td>516</td>\n",
       "      <td>5.0</td>\n",
       "      <td>None</td>\n",
       "    </tr>\n",
       "    <tr>\n",
       "      <th>Dark Waters</th>\n",
       "      <td>52,613</td>\n",
       "      <td>7.6</td>\n",
       "      <td>73</td>\n",
       "    </tr>\n",
       "    <tr>\n",
       "      <th>Ford v Ferrari</th>\n",
       "      <td>274,722</td>\n",
       "      <td>8.1</td>\n",
       "      <td>81</td>\n",
       "    </tr>\n",
       "    <tr>\n",
       "      <th>Watchmen</th>\n",
       "      <td>85,962</td>\n",
       "      <td>8.1</td>\n",
       "      <td>None</td>\n",
       "    </tr>\n",
       "    <tr>\n",
       "      <th>Doom Patrol</th>\n",
       "      <td>32,292</td>\n",
       "      <td>7.9</td>\n",
       "      <td>None</td>\n",
       "    </tr>\n",
       "    <tr>\n",
       "      <th>What We Do in the Shadows</th>\n",
       "      <td>33,336</td>\n",
       "      <td>8.5</td>\n",
       "      <td>None</td>\n",
       "    </tr>\n",
       "    <tr>\n",
       "      <th>Motherless Brooklyn</th>\n",
       "      <td>39,543</td>\n",
       "      <td>6.8</td>\n",
       "      <td>60</td>\n",
       "    </tr>\n",
       "    <tr>\n",
       "      <th>Terminator: Dark Fate</th>\n",
       "      <td>144,220</td>\n",
       "      <td>6.2</td>\n",
       "      <td>54</td>\n",
       "    </tr>\n",
       "    <tr>\n",
       "      <th>Jumanji: The Next Level</th>\n",
       "      <td>179,681</td>\n",
       "      <td>6.7</td>\n",
       "      <td>58</td>\n",
       "    </tr>\n",
       "    <tr>\n",
       "      <th>The Peanut Butter Falcon</th>\n",
       "      <td>60,586</td>\n",
       "      <td>7.6</td>\n",
       "      <td>70</td>\n",
       "    </tr>\n",
       "    <tr>\n",
       "      <th>See</th>\n",
       "      <td>38,962</td>\n",
       "      <td>7.6</td>\n",
       "      <td>None</td>\n",
       "    </tr>\n",
       "    <tr>\n",
       "      <th>Glass</th>\n",
       "      <td>203,172</td>\n",
       "      <td>6.7</td>\n",
       "      <td>43</td>\n",
       "    </tr>\n",
       "    <tr>\n",
       "      <th>Epidemiya</th>\n",
       "      <td>6,716</td>\n",
       "      <td>7.3</td>\n",
       "      <td>None</td>\n",
       "    </tr>\n",
       "  </tbody>\n",
       "</table>\n",
       "</div>"
      ],
      "text/plain": [
       "                                              jumlah_voting rating_imdb  \\\n",
       "The Mandalorian                                     218,408         8.7   \n",
       "His Dark Materials                                   42,067         7.9   \n",
       "The Boys                                            217,545         8.7   \n",
       "Dreamland                                             1,162         5.7   \n",
       "Jojo Rabbit                                         277,631         7.9   \n",
       "Servant                                              15,853         7.6   \n",
       "Wayne                                                 8,496         8.4   \n",
       "The Gentlemen                                       207,408         7.8   \n",
       "Undercover                                            9,405         7.9   \n",
       "The Witcher                                         282,584         8.2   \n",
       "Knives Out                                          419,163         7.9   \n",
       "Gisaengchung                                        512,037         8.6   \n",
       "Once Upon a Time... in Hollywood                    530,749         7.6   \n",
       "Joker                                               900,149         8.5   \n",
       "Avengers: Endgame                                   782,437         8.4   \n",
       "Sex Education                                       149,004         8.3   \n",
       "Euphoria                                             53,591         8.4   \n",
       "Warrior                                              13,073         8.2   \n",
       "1917                                                393,012         8.3   \n",
       "Midsommar                                           190,840         7.1   \n",
       "Chernobyl                                           513,461         9.4   \n",
       "Doctor Sleep                                        135,787         7.3   \n",
       "Star Wars: Episode IX - The Rise of Skywalker       359,108         6.6   \n",
       "The Unicorn                                           2,659         7.2   \n",
       "The Dead Don't Die                                   50,391         5.5   \n",
       "The Spanish Princess                                  4,257         6.8   \n",
       "The Morning Show                                     45,784         8.4   \n",
       "Virgin River                                         11,861         7.5   \n",
       "The Irishman                                        314,372         7.9   \n",
       "After                                                35,090         5.3   \n",
       "Cats                                                 39,265         2.8   \n",
       "Little Women                                        132,537         7.8   \n",
       "Jungleland                                            1,253         6.2   \n",
       "Uncut Gems                                          210,124         7.4   \n",
       "Bombshell                                            79,532         6.8   \n",
       "Evil                                                 10,790         7.6   \n",
       "The Lighthouse                                      133,166         7.5   \n",
       "Buddy Games                                             516         5.0   \n",
       "Dark Waters                                          52,613         7.6   \n",
       "Ford v Ferrari                                      274,722         8.1   \n",
       "Watchmen                                             85,962         8.1   \n",
       "Doom Patrol                                          32,292         7.9   \n",
       "What We Do in the Shadows                            33,336         8.5   \n",
       "Motherless Brooklyn                                  39,543         6.8   \n",
       "Terminator: Dark Fate                               144,220         6.2   \n",
       "Jumanji: The Next Level                             179,681         6.7   \n",
       "The Peanut Butter Falcon                             60,586         7.6   \n",
       "See                                                  38,962         7.6   \n",
       "Glass                                               203,172         6.7   \n",
       "Epidemiya                                             6,716         7.3   \n",
       "\n",
       "                                              metascore  \n",
       "The Mandalorian                                    None  \n",
       "His Dark Materials                                 None  \n",
       "The Boys                                           None  \n",
       "Dreamland                                            57  \n",
       "Jojo Rabbit                                          58  \n",
       "Servant                                            None  \n",
       "Wayne                                              None  \n",
       "The Gentlemen                                        51  \n",
       "Undercover                                         None  \n",
       "The Witcher                                        None  \n",
       "Knives Out                                           82  \n",
       "Gisaengchung                                         96  \n",
       "Once Upon a Time... in Hollywood                     83  \n",
       "Joker                                                59  \n",
       "Avengers: Endgame                                    78  \n",
       "Sex Education                                      None  \n",
       "Euphoria                                           None  \n",
       "Warrior                                            None  \n",
       "1917                                                 78  \n",
       "Midsommar                                            72  \n",
       "Chernobyl                                          None  \n",
       "Doctor Sleep                                         59  \n",
       "Star Wars: Episode IX - The Rise of Skywalker        53  \n",
       "The Unicorn                                        None  \n",
       "The Dead Don't Die                                   53  \n",
       "The Spanish Princess                               None  \n",
       "The Morning Show                                   None  \n",
       "Virgin River                                       None  \n",
       "The Irishman                                         94  \n",
       "After                                                30  \n",
       "Cats                                                 32  \n",
       "Little Women                                         91  \n",
       "Jungleland                                           53  \n",
       "Uncut Gems                                           91  \n",
       "Bombshell                                            64  \n",
       "Evil                                               None  \n",
       "The Lighthouse                                       83  \n",
       "Buddy Games                                        None  \n",
       "Dark Waters                                          73  \n",
       "Ford v Ferrari                                       81  \n",
       "Watchmen                                           None  \n",
       "Doom Patrol                                        None  \n",
       "What We Do in the Shadows                          None  \n",
       "Motherless Brooklyn                                  60  \n",
       "Terminator: Dark Fate                                54  \n",
       "Jumanji: The Next Level                              58  \n",
       "The Peanut Butter Falcon                             70  \n",
       "See                                                None  \n",
       "Glass                                                43  \n",
       "Epidemiya                                          None  "
      ]
     },
     "execution_count": 32,
     "metadata": {},
     "output_type": "execute_result"
    }
   ],
   "source": [
    "df = pd.DataFrame(list(zip( jumlah_voting, rating_imdb, list_besar)), \n",
    "               columns =[ 'jumlah_voting', 'rating_imdb','metascore'],\n",
    "                 index=judul_film)\n",
    "df"
   ]
  },
  {
   "cell_type": "markdown",
   "metadata": {},
   "source": [
    "The data types must be set in their best types"
   ]
  },
  {
   "cell_type": "code",
   "execution_count": 33,
   "metadata": {
    "ExecuteTime": {
     "end_time": "2020-11-27T19:59:43.548167Z",
     "start_time": "2020-11-27T19:59:43.534176Z"
    }
   },
   "outputs": [
    {
     "data": {
      "text/plain": [
       "jumlah_voting    object\n",
       "rating_imdb      object\n",
       "metascore        object\n",
       "dtype: object"
      ]
     },
     "execution_count": 33,
     "metadata": {},
     "output_type": "execute_result"
    }
   ],
   "source": [
    "df.dtypes"
   ]
  },
  {
   "cell_type": "markdown",
   "metadata": {
    "ExecuteTime": {
     "end_time": "2020-11-27T16:10:34.724725Z",
     "start_time": "2020-11-27T16:10:34.715782Z"
    }
   },
   "source": [
    "But, in parameter 'metascore', not evry rows has this parameter, so, i decided to set the rows that dont have 'metascore' data by \"Nan\", and set 'float' for data type"
   ]
  },
  {
   "cell_type": "markdown",
   "metadata": {},
   "source": [
    "Why do i let 'Nan' data? i thought that i couldn't replace Nan with several methods for handling the data, like forward fill, backward fill, mean, median etc. Because taht not make sense for replacing that Nan with that methods"
   ]
  },
  {
   "cell_type": "code",
   "execution_count": 34,
   "metadata": {
    "ExecuteTime": {
     "end_time": "2020-11-27T19:59:43.564133Z",
     "start_time": "2020-11-27T19:59:43.550133Z"
    },
    "scrolled": true
   },
   "outputs": [],
   "source": [
    "df['rating_imdb']=df['rating_imdb'].astype(float)\n",
    "df['jumlah_voting']=df['jumlah_voting'].str.replace(',', '').astype(int)\n",
    "df['metascore']=df['metascore'].astype(float)"
   ]
  },
  {
   "cell_type": "code",
   "execution_count": 35,
   "metadata": {
    "ExecuteTime": {
     "end_time": "2020-11-27T19:59:43.580055Z",
     "start_time": "2020-11-27T19:59:43.566091Z"
    }
   },
   "outputs": [
    {
     "data": {
      "text/html": [
       "<div>\n",
       "<style scoped>\n",
       "    .dataframe tbody tr th:only-of-type {\n",
       "        vertical-align: middle;\n",
       "    }\n",
       "\n",
       "    .dataframe tbody tr th {\n",
       "        vertical-align: top;\n",
       "    }\n",
       "\n",
       "    .dataframe thead th {\n",
       "        text-align: right;\n",
       "    }\n",
       "</style>\n",
       "<table border=\"1\" class=\"dataframe\">\n",
       "  <thead>\n",
       "    <tr style=\"text-align: right;\">\n",
       "      <th></th>\n",
       "      <th>jumlah_voting</th>\n",
       "      <th>rating_imdb</th>\n",
       "      <th>metascore</th>\n",
       "    </tr>\n",
       "  </thead>\n",
       "  <tbody>\n",
       "    <tr>\n",
       "      <th>The Mandalorian</th>\n",
       "      <td>218408</td>\n",
       "      <td>8.7</td>\n",
       "      <td>NaN</td>\n",
       "    </tr>\n",
       "    <tr>\n",
       "      <th>His Dark Materials</th>\n",
       "      <td>42067</td>\n",
       "      <td>7.9</td>\n",
       "      <td>NaN</td>\n",
       "    </tr>\n",
       "    <tr>\n",
       "      <th>The Boys</th>\n",
       "      <td>217545</td>\n",
       "      <td>8.7</td>\n",
       "      <td>NaN</td>\n",
       "    </tr>\n",
       "    <tr>\n",
       "      <th>Dreamland</th>\n",
       "      <td>1162</td>\n",
       "      <td>5.7</td>\n",
       "      <td>57.0</td>\n",
       "    </tr>\n",
       "    <tr>\n",
       "      <th>Jojo Rabbit</th>\n",
       "      <td>277631</td>\n",
       "      <td>7.9</td>\n",
       "      <td>58.0</td>\n",
       "    </tr>\n",
       "    <tr>\n",
       "      <th>Servant</th>\n",
       "      <td>15853</td>\n",
       "      <td>7.6</td>\n",
       "      <td>NaN</td>\n",
       "    </tr>\n",
       "    <tr>\n",
       "      <th>Wayne</th>\n",
       "      <td>8496</td>\n",
       "      <td>8.4</td>\n",
       "      <td>NaN</td>\n",
       "    </tr>\n",
       "  </tbody>\n",
       "</table>\n",
       "</div>"
      ],
      "text/plain": [
       "                    jumlah_voting  rating_imdb  metascore\n",
       "The Mandalorian            218408          8.7        NaN\n",
       "His Dark Materials          42067          7.9        NaN\n",
       "The Boys                   217545          8.7        NaN\n",
       "Dreamland                    1162          5.7       57.0\n",
       "Jojo Rabbit                277631          7.9       58.0\n",
       "Servant                     15853          7.6        NaN\n",
       "Wayne                        8496          8.4        NaN"
      ]
     },
     "execution_count": 35,
     "metadata": {},
     "output_type": "execute_result"
    }
   ],
   "source": [
    "df2=df.head(7)\n",
    "df2"
   ]
  },
  {
   "cell_type": "markdown",
   "metadata": {},
   "source": [
    "### Implementing your webscrapping to the flask dashboard\n",
    "\n",
    "- Copy paste all of your web scrapping process to the desired position on the `app.py`\n",
    "- Changing the title of the dasboard at `index.html`"
   ]
  },
  {
   "cell_type": "markdown",
   "metadata": {},
   "source": [
    "## Finishing This Notebook with Your Analysis and Conclusion\n",
    "\n",
    "First you can do start with making the data visualisation. "
   ]
  },
  {
   "cell_type": "code",
   "execution_count": 36,
   "metadata": {
    "ExecuteTime": {
     "end_time": "2020-11-27T19:59:43.769665Z",
     "start_time": "2020-11-27T19:59:43.582047Z"
    },
    "scrolled": true
   },
   "outputs": [
    {
     "data": {
      "text/plain": [
       "<AxesSubplot:>"
      ]
     },
     "execution_count": 36,
     "metadata": {},
     "output_type": "execute_result"
    },
    {
     "data": {
      "image/png": "[encoded data removed]",
      "text/plain": [
       "<Figure size 432x288 with 1 Axes>"
      ]
     },
     "metadata": {
      "needs_background": "light"
     },
     "output_type": "display_data"
    }
   ],
   "source": [
    "df2['jumlah_voting'].plot(kind='bar')"
   ]
  },
  {
   "cell_type": "code",
   "execution_count": 37,
   "metadata": {
    "ExecuteTime": {
     "end_time": "2020-11-27T19:59:43.940282Z",
     "start_time": "2020-11-27T19:59:43.773648Z"
    },
    "scrolled": true
   },
   "outputs": [
    {
     "data": {
      "text/plain": [
       "<AxesSubplot:>"
      ]
     },
     "execution_count": 37,
     "metadata": {},
     "output_type": "execute_result"
    },
    {
     "data": {
      "image/png": "[encoded data removed]",
      "text/plain": [
       "<Figure size 432x288 with 1 Axes>"
      ]
     },
     "metadata": {
      "needs_background": "light"
     },
     "output_type": "display_data"
    }
   ],
   "source": [
    "df2['rating_imdb'].plot(kind='bar')"
   ]
  },
  {
   "cell_type": "code",
   "execution_count": 38,
   "metadata": {
    "ExecuteTime": {
     "end_time": "2020-11-27T19:59:44.173623Z",
     "start_time": "2020-11-27T19:59:43.942239Z"
    }
   },
   "outputs": [
    {
     "data": {
      "text/plain": [
       "<AxesSubplot:>"
      ]
     },
     "execution_count": 38,
     "metadata": {},
     "output_type": "execute_result"
    },
    {
     "data": {
      "image/png": "[encoded data removed]",
      "text/plain": [
       "<Figure size 432x288 with 1 Axes>"
      ]
     },
     "metadata": {
      "needs_background": "light"
     },
     "output_type": "display_data"
    }
   ],
   "source": [
    "df2['metascore'].plot(kind='bar')"
   ]
  },
  {
   "cell_type": "markdown",
   "metadata": {},
   "source": [
    "3 bar plots above show number of voting, imdb rating and metascore from top 7 popular films in imbd that ordered from the first to the last in 2019"
   ]
  },
  {
   "cell_type": "markdown",
   "metadata": {},
   "source": [
    "But, Surely i can't find what parameter they used to calculate popularity, because they don't spill it\n",
    "And then, there are too little paramaters that we got to correlate it"
   ]
  },
  {
   "cell_type": "markdown",
   "metadata": {
    "ExecuteTime": {
     "end_time": "2020-11-27T19:34:16.990496Z",
     "start_time": "2020-11-27T19:34:16.959579Z"
    }
   },
   "source": [
    "So, i will analyse correlation of top 5 most voting films and their imdb rating"
   ]
  },
  {
   "cell_type": "code",
   "execution_count": 39,
   "metadata": {
    "ExecuteTime": {
     "end_time": "2020-11-27T19:59:44.189608Z",
     "start_time": "2020-11-27T19:59:44.175618Z"
    }
   },
   "outputs": [],
   "source": [
    "top_5_voting = pd.DataFrame(list(zip( judul_film,jumlah_voting, rating_imdb, list_besar)), \n",
    "               columns =['judul_film','jumlah_voting', 'rating_imdb','metascore'])\n",
    "top_5_voting['rating_imdb']=top_5_voting['rating_imdb'].astype(float)\n",
    "top_5_voting['jumlah_voting']=top_5_voting['jumlah_voting'].str.replace(',', '').astype(int)\n",
    "top_5_voting['metascore']=top_5_voting['metascore'].astype(float)"
   ]
  },
  {
   "cell_type": "code",
   "execution_count": 40,
   "metadata": {
    "ExecuteTime": {
     "end_time": "2020-11-27T19:59:44.205134Z",
     "start_time": "2020-11-27T19:59:44.191574Z"
    }
   },
   "outputs": [],
   "source": [
    "top_5_voting=top_5_voting.sort_values(by='jumlah_voting',ascending=False).head(5)"
   ]
  },
  {
   "cell_type": "code",
   "execution_count": 41,
   "metadata": {
    "ExecuteTime": {
     "end_time": "2020-11-27T19:59:44.221052Z",
     "start_time": "2020-11-27T19:59:44.207088Z"
    }
   },
   "outputs": [
    {
     "data": {
      "text/html": [
       "<div>\n",
       "<style scoped>\n",
       "    .dataframe tbody tr th:only-of-type {\n",
       "        vertical-align: middle;\n",
       "    }\n",
       "\n",
       "    .dataframe tbody tr th {\n",
       "        vertical-align: top;\n",
       "    }\n",
       "\n",
       "    .dataframe thead th {\n",
       "        text-align: right;\n",
       "    }\n",
       "</style>\n",
       "<table border=\"1\" class=\"dataframe\">\n",
       "  <thead>\n",
       "    <tr style=\"text-align: right;\">\n",
       "      <th></th>\n",
       "      <th>judul_film</th>\n",
       "      <th>jumlah_voting</th>\n",
       "      <th>rating_imdb</th>\n",
       "      <th>metascore</th>\n",
       "    </tr>\n",
       "  </thead>\n",
       "  <tbody>\n",
       "    <tr>\n",
       "      <th>13</th>\n",
       "      <td>Joker</td>\n",
       "      <td>900149</td>\n",
       "      <td>8.5</td>\n",
       "      <td>59.0</td>\n",
       "    </tr>\n",
       "    <tr>\n",
       "      <th>14</th>\n",
       "      <td>Avengers: Endgame</td>\n",
       "      <td>782437</td>\n",
       "      <td>8.4</td>\n",
       "      <td>78.0</td>\n",
       "    </tr>\n",
       "    <tr>\n",
       "      <th>12</th>\n",
       "      <td>Once Upon a Time... in Hollywood</td>\n",
       "      <td>530749</td>\n",
       "      <td>7.6</td>\n",
       "      <td>83.0</td>\n",
       "    </tr>\n",
       "    <tr>\n",
       "      <th>20</th>\n",
       "      <td>Chernobyl</td>\n",
       "      <td>513461</td>\n",
       "      <td>9.4</td>\n",
       "      <td>NaN</td>\n",
       "    </tr>\n",
       "    <tr>\n",
       "      <th>11</th>\n",
       "      <td>Gisaengchung</td>\n",
       "      <td>512037</td>\n",
       "      <td>8.6</td>\n",
       "      <td>96.0</td>\n",
       "    </tr>\n",
       "  </tbody>\n",
       "</table>\n",
       "</div>"
      ],
      "text/plain": [
       "                          judul_film  jumlah_voting  rating_imdb  metascore\n",
       "13                             Joker         900149          8.5       59.0\n",
       "14                 Avengers: Endgame         782437          8.4       78.0\n",
       "12  Once Upon a Time... in Hollywood         530749          7.6       83.0\n",
       "20                         Chernobyl         513461          9.4        NaN\n",
       "11                      Gisaengchung         512037          8.6       96.0"
      ]
     },
     "execution_count": 41,
     "metadata": {},
     "output_type": "execute_result"
    }
   ],
   "source": [
    "top_5_voting"
   ]
  },
  {
   "cell_type": "code",
   "execution_count": 42,
   "metadata": {
    "ExecuteTime": {
     "end_time": "2020-11-27T19:59:44.771135Z",
     "start_time": "2020-11-27T19:59:44.223048Z"
    }
   },
   "outputs": [
    {
     "data": {
      "image/png": "[encoded data removed]",
      "text/plain": [
       "<Figure size 1440x720 with 3 Axes>"
      ]
     },
     "metadata": {
      "needs_background": "light"
     },
     "output_type": "display_data"
    }
   ],
   "source": [
    "fig,ax=plt.subplots(nrows=3,ncols=1,figsize=(20,10))\n",
    "ax[0].plot(top_5_voting['judul_film'],top_5_voting['jumlah_voting'],label='Jumlah voting',color='r')\n",
    "ax[0].set_xlabel('Judul Film')\n",
    "ax[0].set_ylabel('jumlah voting')\n",
    "ax[0].legend()\n",
    "ax[1].plot(top_5_voting['judul_film'],top_5_voting['rating_imdb'],label='rating imdb')\n",
    "ax[1].set_xlabel('Judul Film')\n",
    "ax[1].set_ylabel('rating imdb')\n",
    "ax[1].legend()\n",
    "ax[2].plot(top_5_voting['judul_film'],top_5_voting['metascore'],label='metascore',color='g')\n",
    "ax[2].set_xlabel('Judul Film')\n",
    "ax[2].set_ylabel('metascore')\n",
    "ax[2].legend()\n",
    "plt.tight_layout()"
   ]
  },
  {
   "cell_type": "markdown",
   "metadata": {
    "ExecuteTime": {
     "end_time": "2020-11-27T19:58:55.978638Z",
     "start_time": "2020-11-27T19:58:55.971691Z"
    }
   },
   "source": [
    "we can see that from table that no correlation between those parameters, except avengers:endgame that has good score from 3 parameters. it's reasonable because, as we know, 'end game' is a great film from marvel that have so many fans from around the world, and that film is closing film for MCU's 3rd phase."
   ]
  },
  {
   "cell_type": "markdown",
   "metadata": {},
   "source": [
    "### Extra Challange\n",
    "\n",
    "This will be not included to the scoring. \n",
    "\n",
    "- You can create additional analysis from the data.\n",
    "- Implement it to the dashboard with at `app.py` dan `index.html`."
   ]
  }
 ],
 "metadata": {
  "kernelspec": {
   "display_name": "Data Analytics",
   "language": "python",
   "name": "venv"
  },
  "language_info": {
   "codemirror_mode": {
    "name": "ipython",
    "version": 3
   },
   "file_extension": ".py",
   "mimetype": "text/x-python",
   "name": "python",
   "nbconvert_exporter": "python",
   "pygments_lexer": "ipython3",
   "version": "3.8.5"
  },
  "toc": {
   "base_numbering": 1,
   "nav_menu": {},
   "number_sections": true,
   "sideBar": true,
   "skip_h1_title": false,
   "title_cell": "Table of Contents",
   "title_sidebar": "Contents",
   "toc_cell": false,
   "toc_position": {},
   "toc_section_display": true,
   "toc_window_display": true
  },
  "varInspector": {
   "cols": {
    "lenName": 16,
    "lenType": 16,
    "lenVar": 40
   },
   "kernels_config": {
    "python": {
     "delete_cmd_postfix": "",
     "delete_cmd_prefix": "del ",
     "library": "var_list.py",
     "varRefreshCmd": "print(var_dic_list())"
    },
    "r": {
     "delete_cmd_postfix": ") ",
     "delete_cmd_prefix": "rm(",
     "library": "var_list.r",
     "varRefreshCmd": "cat(var_dic_list()) "
    }
   },
   "types_to_exclude": [
    "module",
    "function",
    "builtin_function_or_method",
    "instance",
    "_Feature"
   ],
   "window_display": false
  }
 },
 "nbformat": 4,
 "nbformat_minor": 2
}
